{
  "nbformat": 4,
  "nbformat_minor": 0,
  "metadata": {
    "colab": {
      "provenance": []
    },
    "kernelspec": {
      "name": "python3",
      "display_name": "Python 3"
    },
    "language_info": {
      "name": "python"
    }
  },
  "cells": [
    {
      "cell_type": "code",
      "execution_count": null,
      "metadata": {
        "id": "ynwQ1LXfMhrK"
      },
      "outputs": [],
      "source": []
    },
    {
      "cell_type": "markdown",
      "source": [],
      "metadata": {
        "id": "6N0ntbxV_CUO"
      }
    },
    {
      "cell_type": "markdown",
      "source": [
        "# 1. Discuss string slicing and provide examples"
      ],
      "metadata": {
        "id": "bbWMpV95M7F4"
      }
    },
    {
      "cell_type": "code",
      "source": [],
      "metadata": {
        "id": "DzmEBrT9NPBH"
      },
      "execution_count": null,
      "outputs": []
    },
    {
      "cell_type": "markdown",
      "source": [
        ">> String slicing allows to extracts a specific portion of a string by specifying a range of indices. It allows the format string[strart:end], where 'start' is the index where slicing begins and 'end' is the index where slicing ends\n",
        "Some examples are as follows:-"
      ],
      "metadata": {
        "id": "av8cQq4gOWkj"
      }
    },
    {
      "cell_type": "code",
      "source": [
        "string1 = \"today is my birthday\"\n",
        "string1"
      ],
      "metadata": {
        "colab": {
          "base_uri": "https://localhost:8080/",
          "height": 36
        },
        "id": "Mo-KsatpPhmq",
        "outputId": "c5096b72-01fa-4656-b3e5-e71a5cd0e846"
      },
      "execution_count": null,
      "outputs": [
        {
          "output_type": "execute_result",
          "data": {
            "text/plain": [
              "'today is my birthday'"
            ],
            "application/vnd.google.colaboratory.intrinsic+json": {
              "type": "string"
            }
          },
          "metadata": {},
          "execution_count": 2
        }
      ]
    },
    {
      "cell_type": "code",
      "source": [
        "string1[0:4] # it will give till 0 to third index because 4 is exclusive"
      ],
      "metadata": {
        "colab": {
          "base_uri": "https://localhost:8080/",
          "height": 36
        },
        "id": "wa5TTTycPy11",
        "outputId": "c244b339-92f7-440a-c447-9824396c22c8"
      },
      "execution_count": null,
      "outputs": [
        {
          "output_type": "execute_result",
          "data": {
            "text/plain": [
              "'toda'"
            ],
            "application/vnd.google.colaboratory.intrinsic+json": {
              "type": "string"
            }
          },
          "metadata": {},
          "execution_count": 3
        }
      ]
    },
    {
      "cell_type": "code",
      "source": [
        "string1[0:] # start_index:end_index"
      ],
      "metadata": {
        "colab": {
          "base_uri": "https://localhost:8080/",
          "height": 36
        },
        "id": "YfZ1iQmOQIoq",
        "outputId": "a6b9ac2d-bf75-4751-b38e-7f8ff5c3b1e8"
      },
      "execution_count": null,
      "outputs": [
        {
          "output_type": "execute_result",
          "data": {
            "text/plain": [
              "'today is my birthday'"
            ],
            "application/vnd.google.colaboratory.intrinsic+json": {
              "type": "string"
            }
          },
          "metadata": {},
          "execution_count": 5
        }
      ]
    },
    {
      "cell_type": "code",
      "source": [
        "string1[3:]"
      ],
      "metadata": {
        "colab": {
          "base_uri": "https://localhost:8080/",
          "height": 36
        },
        "id": "YIc0vfn6Qiv0",
        "outputId": "8fd4b008-4e7e-44d7-dbf2-e27a937238c3"
      },
      "execution_count": null,
      "outputs": [
        {
          "output_type": "execute_result",
          "data": {
            "text/plain": [
              "'ay is my birthday'"
            ],
            "application/vnd.google.colaboratory.intrinsic+json": {
              "type": "string"
            }
          },
          "metadata": {},
          "execution_count": 10
        }
      ]
    },
    {
      "cell_type": "code",
      "source": [
        "string2 = \"assignment\""
      ],
      "metadata": {
        "id": "JqVXMMQhQ5AW"
      },
      "execution_count": null,
      "outputs": []
    },
    {
      "cell_type": "code",
      "source": [
        "string2[1]"
      ],
      "metadata": {
        "colab": {
          "base_uri": "https://localhost:8080/",
          "height": 36
        },
        "id": "vFPSighuRTwH",
        "outputId": "820b44be-0b69-418a-fbc7-0877188615b7"
      },
      "execution_count": null,
      "outputs": [
        {
          "output_type": "execute_result",
          "data": {
            "text/plain": [
              "'s'"
            ],
            "application/vnd.google.colaboratory.intrinsic+json": {
              "type": "string"
            }
          },
          "metadata": {},
          "execution_count": 8
        }
      ]
    },
    {
      "cell_type": "code",
      "source": [
        "string2[-2]"
      ],
      "metadata": {
        "colab": {
          "base_uri": "https://localhost:8080/",
          "height": 36
        },
        "id": "3MAOAHwbRZak",
        "outputId": "6df7a420-72fa-4961-958a-04fc046dae9e"
      },
      "execution_count": null,
      "outputs": [
        {
          "output_type": "execute_result",
          "data": {
            "text/plain": [
              "'n'"
            ],
            "application/vnd.google.colaboratory.intrinsic+json": {
              "type": "string"
            }
          },
          "metadata": {},
          "execution_count": 11
        }
      ]
    },
    {
      "cell_type": "code",
      "source": [
        "string2[:-2] # except last two characters"
      ],
      "metadata": {
        "colab": {
          "base_uri": "https://localhost:8080/",
          "height": 36
        },
        "id": "WfQ4MGZKRr9r",
        "outputId": "d2ca2ab1-74ac-4a1d-bdf1-47c1518701dc"
      },
      "execution_count": null,
      "outputs": [
        {
          "output_type": "execute_result",
          "data": {
            "text/plain": [
              "'assignme'"
            ],
            "application/vnd.google.colaboratory.intrinsic+json": {
              "type": "string"
            }
          },
          "metadata": {},
          "execution_count": 12
        }
      ]
    },
    {
      "cell_type": "code",
      "source": [
        "string2[-2:] # only last two characters"
      ],
      "metadata": {
        "colab": {
          "base_uri": "https://localhost:8080/",
          "height": 36
        },
        "id": "BwSuuDyfR42h",
        "outputId": "90bc5a42-a0ea-45e5-cd63-c6bb15005c61"
      },
      "execution_count": null,
      "outputs": [
        {
          "output_type": "execute_result",
          "data": {
            "text/plain": [
              "'nt'"
            ],
            "application/vnd.google.colaboratory.intrinsic+json": {
              "type": "string"
            }
          },
          "metadata": {},
          "execution_count": 13
        }
      ]
    },
    {
      "cell_type": "code",
      "source": [],
      "metadata": {
        "id": "YV1j0XhoSEOS"
      },
      "execution_count": null,
      "outputs": []
    },
    {
      "cell_type": "markdown",
      "source": [
        "# 2. Explain the key features of list in python."
      ],
      "metadata": {
        "id": "m3GosgLeSSv0"
      }
    },
    {
      "cell_type": "code",
      "source": [],
      "metadata": {
        "id": "5P1lmONrShZL"
      },
      "execution_count": null,
      "outputs": []
    },
    {
      "cell_type": "markdown",
      "source": [
        "[ ]lists are the ordered collection of items"
      ],
      "metadata": {
        "id": "0qAXWbILTN69"
      }
    },
    {
      "cell_type": "code",
      "source": [
        "shopping_list = ['milk','coffee','orange',1,2.2,True,3+6j] # list is Mutable and can store any type of data\n",
        "type(shopping_list)"
      ],
      "metadata": {
        "colab": {
          "base_uri": "https://localhost:8080/"
        },
        "id": "fQjgKnnHTdxQ",
        "outputId": "478db827-9660-489c-d3ca-3ff1623a250f"
      },
      "execution_count": null,
      "outputs": [
        {
          "output_type": "execute_result",
          "data": {
            "text/plain": [
              "list"
            ]
          },
          "metadata": {},
          "execution_count": 14
        }
      ]
    },
    {
      "cell_type": "code",
      "source": [
        "shopping_list[1]"
      ],
      "metadata": {
        "colab": {
          "base_uri": "https://localhost:8080/",
          "height": 36
        },
        "id": "cTFSGDtwUVRe",
        "outputId": "a67c327e-cf47-47ea-b384-2eb359fe25ff"
      },
      "execution_count": null,
      "outputs": [
        {
          "output_type": "execute_result",
          "data": {
            "text/plain": [
              "'coffee'"
            ],
            "application/vnd.google.colaboratory.intrinsic+json": {
              "type": "string"
            }
          },
          "metadata": {},
          "execution_count": 15
        }
      ]
    },
    {
      "cell_type": "code",
      "source": [
        "shopping_list[-1]"
      ],
      "metadata": {
        "colab": {
          "base_uri": "https://localhost:8080/"
        },
        "id": "By5LrKCwUxD8",
        "outputId": "222eb692-4c35-4586-ad9f-4b4c6cdc084f"
      },
      "execution_count": null,
      "outputs": [
        {
          "output_type": "execute_result",
          "data": {
            "text/plain": [
              "(3+6j)"
            ]
          },
          "metadata": {},
          "execution_count": 16
        }
      ]
    },
    {
      "cell_type": "code",
      "source": [
        "shopping_list[2:]"
      ],
      "metadata": {
        "colab": {
          "base_uri": "https://localhost:8080/"
        },
        "id": "GBvVojA5U2Do",
        "outputId": "25843421-1198-4be7-9598-714cbff218e1"
      },
      "execution_count": null,
      "outputs": [
        {
          "output_type": "execute_result",
          "data": {
            "text/plain": [
              "['orange', 1, 2.2, True, (3+6j)]"
            ]
          },
          "metadata": {},
          "execution_count": 17
        }
      ]
    },
    {
      "cell_type": "code",
      "source": [],
      "metadata": {
        "id": "zpacQdywU9pj"
      },
      "execution_count": null,
      "outputs": []
    },
    {
      "cell_type": "markdown",
      "source": [
        "Adding collection to the list"
      ],
      "metadata": {
        "id": "xSMle5L1VEY7"
      }
    },
    {
      "cell_type": "code",
      "source": [
        "playlist = [ ]\n",
        "playlist.append('tip tip barsa pani')\n",
        "playlist.append('tera yaar hu main')\n",
        "playlist.append('hamari adhuri kahani')\n",
        "playlist\n"
      ],
      "metadata": {
        "colab": {
          "base_uri": "https://localhost:8080/"
        },
        "id": "WceBu-J-VOn3",
        "outputId": "e9f010ef-d320-4291-ac33-b54d1fb30b9f"
      },
      "execution_count": null,
      "outputs": [
        {
          "output_type": "execute_result",
          "data": {
            "text/plain": [
              "['tip tip barsa pani', 'tera yaar hu main', 'hamari adhuri kahani']"
            ]
          },
          "metadata": {},
          "execution_count": 18
        }
      ]
    },
    {
      "cell_type": "code",
      "source": [
        "lis = ['kiwi','litchi','fig']\n",
        "lis"
      ],
      "metadata": {
        "colab": {
          "base_uri": "https://localhost:8080/"
        },
        "id": "_XrfOrxOWarv",
        "outputId": "41251b47-23d0-4d5c-f3ea-4963d29f2229"
      },
      "execution_count": null,
      "outputs": [
        {
          "output_type": "execute_result",
          "data": {
            "text/plain": [
              "['kiwi', 'litchi', 'fig']"
            ]
          },
          "metadata": {},
          "execution_count": 21
        }
      ]
    },
    {
      "cell_type": "code",
      "source": [
        "lis[0] = 'dragon fruit' # list are Mutable\n",
        "lis"
      ],
      "metadata": {
        "colab": {
          "base_uri": "https://localhost:8080/"
        },
        "id": "l1U61nOfWwcf",
        "outputId": "89eeffff-ab33-4b01-fbc8-da433a340ca1"
      },
      "execution_count": null,
      "outputs": [
        {
          "output_type": "execute_result",
          "data": {
            "text/plain": [
              "['dragon fruit', 'litchi', 'fig']"
            ]
          },
          "metadata": {},
          "execution_count": 25
        }
      ]
    },
    {
      "cell_type": "code",
      "source": [],
      "metadata": {
        "id": "cvSSieYKW1CJ"
      },
      "execution_count": null,
      "outputs": []
    },
    {
      "cell_type": "markdown",
      "source": [
        "extend>> used to append elements from another list"
      ],
      "metadata": {
        "id": "on_gOtCcXQmS"
      }
    },
    {
      "cell_type": "code",
      "source": [
        "my_list = ['beer','chicken','fish']\n",
        "brothers_list = ['vegetables','beer']\n",
        "my_list.extend(brothers_list)\n",
        "my_list"
      ],
      "metadata": {
        "colab": {
          "base_uri": "https://localhost:8080/"
        },
        "id": "QOvKhCzaXfOO",
        "outputId": "dff124ff-7d8d-45f6-be11-b5c031d54587"
      },
      "execution_count": null,
      "outputs": [
        {
          "output_type": "execute_result",
          "data": {
            "text/plain": [
              "['beer', 'chicken', 'fish', 'vegetables', 'beer']"
            ]
          },
          "metadata": {},
          "execution_count": 26
        }
      ]
    },
    {
      "cell_type": "markdown",
      "source": [
        "Concatenation"
      ],
      "metadata": {
        "id": "zptlqXDYYSgK"
      }
    },
    {
      "cell_type": "code",
      "source": [
        "my_list = ['beer','chicken','fish']\n",
        "brothers_list = ['vegetables','beer']\n",
        "my_list+brothers_list # both list will be in same bag"
      ],
      "metadata": {
        "colab": {
          "base_uri": "https://localhost:8080/"
        },
        "id": "Z3tmsaOzYYqL",
        "outputId": "d80b5761-0a7a-4c28-eae2-73f967dc446c"
      },
      "execution_count": null,
      "outputs": [
        {
          "output_type": "execute_result",
          "data": {
            "text/plain": [
              "['beer', 'chicken', 'fish', 'vegetables', 'beer']"
            ]
          },
          "metadata": {},
          "execution_count": 29
        }
      ]
    },
    {
      "cell_type": "code",
      "source": [
        "my_list"
      ],
      "metadata": {
        "colab": {
          "base_uri": "https://localhost:8080/"
        },
        "id": "bd7erYNkY2TI",
        "outputId": "73908c4a-17eb-452c-d905-5783c690495e"
      },
      "execution_count": null,
      "outputs": [
        {
          "output_type": "execute_result",
          "data": {
            "text/plain": [
              "['beer', 'chicken', 'fish']"
            ]
          },
          "metadata": {},
          "execution_count": 30
        }
      ]
    },
    {
      "cell_type": "code",
      "source": [
        "brothers_list"
      ],
      "metadata": {
        "colab": {
          "base_uri": "https://localhost:8080/"
        },
        "id": "Dc9kmA0oZB2_",
        "outputId": "ff1f0556-1755-4f6f-f3cf-c4d6454c1abf"
      },
      "execution_count": null,
      "outputs": [
        {
          "output_type": "execute_result",
          "data": {
            "text/plain": [
              "['vegetables', 'beer']"
            ]
          },
          "metadata": {},
          "execution_count": 31
        }
      ]
    },
    {
      "cell_type": "code",
      "source": [],
      "metadata": {
        "id": "vqRs3a48ZDpT"
      },
      "execution_count": null,
      "outputs": []
    },
    {
      "cell_type": "markdown",
      "source": [
        "Membership. in, not in"
      ],
      "metadata": {
        "id": "ZkZE531HZLUP"
      }
    },
    {
      "cell_type": "code",
      "source": [
        "shopping_list = ['milk','coffee',1,2.3,True,7+5j]\n",
        "'milk' in shopping_list"
      ],
      "metadata": {
        "colab": {
          "base_uri": "https://localhost:8080/"
        },
        "id": "rDcXjWjTZSbO",
        "outputId": "74e7ae1f-a463-49d7-ae34-e5379f1ca99f"
      },
      "execution_count": null,
      "outputs": [
        {
          "output_type": "execute_result",
          "data": {
            "text/plain": [
              "True"
            ]
          },
          "metadata": {},
          "execution_count": 32
        }
      ]
    },
    {
      "cell_type": "code",
      "source": [
        "'coffee' not in shopping_list"
      ],
      "metadata": {
        "colab": {
          "base_uri": "https://localhost:8080/"
        },
        "id": "MMKG5bltZtd7",
        "outputId": "a6b50922-1523-441e-dfc3-6b36092cd1be"
      },
      "execution_count": null,
      "outputs": [
        {
          "output_type": "execute_result",
          "data": {
            "text/plain": [
              "False"
            ]
          },
          "metadata": {},
          "execution_count": 33
        }
      ]
    },
    {
      "cell_type": "code",
      "source": [
        "'pwskills' not in shopping_list"
      ],
      "metadata": {
        "colab": {
          "base_uri": "https://localhost:8080/"
        },
        "id": "exjk7l0vZ1vz",
        "outputId": "e065ca2f-6377-4ff9-9a58-ca1a60e92e03"
      },
      "execution_count": null,
      "outputs": [
        {
          "output_type": "execute_result",
          "data": {
            "text/plain": [
              "True"
            ]
          },
          "metadata": {},
          "execution_count": 34
        }
      ]
    },
    {
      "cell_type": "code",
      "source": [],
      "metadata": {
        "id": "2kWr3ijhZ-8v"
      },
      "execution_count": null,
      "outputs": []
    },
    {
      "cell_type": "markdown",
      "source": [
        "List inside List"
      ],
      "metadata": {
        "id": "otggDnzkaFE9"
      }
    },
    {
      "cell_type": "code",
      "source": [
        "lis = [[1,2,3],[4,5,6],[7,8,9]]\n",
        "lis"
      ],
      "metadata": {
        "colab": {
          "base_uri": "https://localhost:8080/"
        },
        "id": "hkFKiYAKaIzR",
        "outputId": "7ab09f1f-fd47-4b10-f954-32705a870d9a"
      },
      "execution_count": null,
      "outputs": [
        {
          "output_type": "execute_result",
          "data": {
            "text/plain": [
              "[[1, 2, 3], [4, 5, 6], [7, 8, 9]]"
            ]
          },
          "metadata": {},
          "execution_count": 35
        }
      ]
    },
    {
      "cell_type": "code",
      "source": [
        "type(lis)"
      ],
      "metadata": {
        "colab": {
          "base_uri": "https://localhost:8080/"
        },
        "id": "SDRwllqLaYA3",
        "outputId": "17aa2293-fc02-4f1c-997d-22c9d9ca7dbc"
      },
      "execution_count": null,
      "outputs": [
        {
          "output_type": "execute_result",
          "data": {
            "text/plain": [
              "list"
            ]
          },
          "metadata": {},
          "execution_count": 36
        }
      ]
    },
    {
      "cell_type": "code",
      "source": [
        "lis[0][1]"
      ],
      "metadata": {
        "colab": {
          "base_uri": "https://localhost:8080/"
        },
        "id": "zDyqUIKpac6W",
        "outputId": "e83746ff-8125-45f7-e524-67af79ed8649"
      },
      "execution_count": null,
      "outputs": [
        {
          "output_type": "execute_result",
          "data": {
            "text/plain": [
              "2"
            ]
          },
          "metadata": {},
          "execution_count": 37
        }
      ]
    },
    {
      "cell_type": "code",
      "source": [
        "lis[2][2]"
      ],
      "metadata": {
        "colab": {
          "base_uri": "https://localhost:8080/"
        },
        "id": "kUcfQfknanQV",
        "outputId": "04347bdd-a3c6-43ec-a520-6821ebbee201"
      },
      "execution_count": null,
      "outputs": [
        {
          "output_type": "execute_result",
          "data": {
            "text/plain": [
              "9"
            ]
          },
          "metadata": {},
          "execution_count": 39
        }
      ]
    },
    {
      "cell_type": "code",
      "source": [],
      "metadata": {
        "id": "0tOoo3UFas8Z"
      },
      "execution_count": null,
      "outputs": []
    },
    {
      "cell_type": "markdown",
      "source": [
        "# 3. discribe how to access, modify and delete elements in a lists with examples"
      ],
      "metadata": {
        "id": "8sILLa3Ba22Q"
      }
    },
    {
      "cell_type": "code",
      "source": [],
      "metadata": {
        "id": "cA59kbUNbM21"
      },
      "execution_count": null,
      "outputs": []
    },
    {
      "cell_type": "markdown",
      "source": [
        "Accessing element in a list"
      ],
      "metadata": {
        "id": "M8QrUjQ8cCAT"
      }
    },
    {
      "cell_type": "code",
      "source": [
        "dinner_menu = [ ]\n",
        "dinner_menu.append('butter chicken')\n",
        "dinner_menu.append('naan')\n",
        "dinner_menu.append('jeera rice')\n",
        "dinner_menu"
      ],
      "metadata": {
        "colab": {
          "base_uri": "https://localhost:8080/"
        },
        "id": "MHbP79sGcKyB",
        "outputId": "d6d7ebfc-0974-4806-c6bb-00eeef7f610c"
      },
      "execution_count": null,
      "outputs": [
        {
          "output_type": "execute_result",
          "data": {
            "text/plain": [
              "['butter chicken', 'naan', 'jeera rice']"
            ]
          },
          "metadata": {},
          "execution_count": 40
        }
      ]
    },
    {
      "cell_type": "code",
      "source": [],
      "metadata": {
        "id": "OCCMljC-dCaz"
      },
      "execution_count": null,
      "outputs": []
    },
    {
      "cell_type": "markdown",
      "source": [
        "Modifying elements in a list"
      ],
      "metadata": {
        "id": "vimGOB-0dL1A"
      }
    },
    {
      "cell_type": "code",
      "source": [
        "name = ['pranay','prem','jay']\n",
        "name"
      ],
      "metadata": {
        "colab": {
          "base_uri": "https://localhost:8080/"
        },
        "id": "pnx8aV0QdQKf",
        "outputId": "3878a395-e776-4f4b-e7d6-28ff0da444a6"
      },
      "execution_count": null,
      "outputs": [
        {
          "output_type": "execute_result",
          "data": {
            "text/plain": [
              "['pranay', 'prem', 'jay']"
            ]
          },
          "metadata": {},
          "execution_count": 41
        }
      ]
    },
    {
      "cell_type": "code",
      "source": [
        "name[0]='ganesh' #lists is mutable"
      ],
      "metadata": {
        "id": "vIxv_uYtdiTj"
      },
      "execution_count": null,
      "outputs": []
    },
    {
      "cell_type": "code",
      "source": [
        "name"
      ],
      "metadata": {
        "colab": {
          "base_uri": "https://localhost:8080/"
        },
        "id": "b0SJeZ8xdpLC",
        "outputId": "bda5a6d0-1f55-42bb-a1d7-5a705c23dd40"
      },
      "execution_count": null,
      "outputs": [
        {
          "output_type": "execute_result",
          "data": {
            "text/plain": [
              "['ganesh', 'prem', 'jay']"
            ]
          },
          "metadata": {},
          "execution_count": 45
        }
      ]
    },
    {
      "cell_type": "code",
      "source": [],
      "metadata": {
        "id": "UZkwPS1hdz2A"
      },
      "execution_count": null,
      "outputs": []
    },
    {
      "cell_type": "markdown",
      "source": [
        "Deleting elements in a list"
      ],
      "metadata": {
        "id": "DRt2_hMsd-V0"
      }
    },
    {
      "cell_type": "code",
      "source": [
        "list = ['apple','mango','banana']\n",
        "list"
      ],
      "metadata": {
        "colab": {
          "base_uri": "https://localhost:8080/"
        },
        "id": "i7yPRCwreF_e",
        "outputId": "1dbebc62-f88b-45e5-f18e-4a5ec90623b3"
      },
      "execution_count": null,
      "outputs": [
        {
          "output_type": "execute_result",
          "data": {
            "text/plain": [
              "['apple', 'mango', 'banana']"
            ]
          },
          "metadata": {},
          "execution_count": 46
        }
      ]
    },
    {
      "cell_type": "code",
      "source": [
        "list.remove('apple')"
      ],
      "metadata": {
        "id": "Ckn1kzh5fJK0"
      },
      "execution_count": null,
      "outputs": []
    },
    {
      "cell_type": "code",
      "source": [
        "list"
      ],
      "metadata": {
        "colab": {
          "base_uri": "https://localhost:8080/"
        },
        "id": "2EgJDIJyfPiS",
        "outputId": "d5725a65-24c2-4bc9-9cd8-4f1a1e82fe82"
      },
      "execution_count": null,
      "outputs": [
        {
          "output_type": "execute_result",
          "data": {
            "text/plain": [
              "['mango', 'banana']"
            ]
          },
          "metadata": {},
          "execution_count": 48
        }
      ]
    },
    {
      "cell_type": "code",
      "source": [],
      "metadata": {
        "id": "i565YNqOfRAn"
      },
      "execution_count": null,
      "outputs": []
    },
    {
      "cell_type": "markdown",
      "source": [
        "# 4. Compare and contrast tuples and lists with examples."
      ],
      "metadata": {
        "id": "2BAdTqGCsRyw"
      }
    },
    {
      "cell_type": "code",
      "source": [],
      "metadata": {
        "id": "RUE1j5H1siGY"
      },
      "execution_count": null,
      "outputs": []
    },
    {
      "cell_type": "markdown",
      "source": [
        "E.g 1. Tuple( ) >> Tuples are ordered collection of elements , heterogenous data type"
      ],
      "metadata": {
        "id": "Qmgk8X2KtaBj"
      }
    },
    {
      "cell_type": "code",
      "source": [
        "t = (1,2,3.5,True,3,5j,'ajay') # can store any type of data\n",
        "type(t)"
      ],
      "metadata": {
        "colab": {
          "base_uri": "https://localhost:8080/"
        },
        "id": "GkYIW9IFuLz7",
        "outputId": "18772740-68b6-4c95-a500-700bb421c4ea"
      },
      "execution_count": null,
      "outputs": [
        {
          "output_type": "execute_result",
          "data": {
            "text/plain": [
              "tuple"
            ]
          },
          "metadata": {},
          "execution_count": 79
        }
      ]
    },
    {
      "cell_type": "code",
      "source": [],
      "metadata": {
        "id": "9IxC0uX3vEc_"
      },
      "execution_count": null,
      "outputs": []
    },
    {
      "cell_type": "markdown",
      "source": [
        "E.g 1. List[ ] >> List is ordered collection of data, can store heterogenous data"
      ],
      "metadata": {
        "id": "EfxWljX2vUGD"
      }
    },
    {
      "cell_type": "code",
      "source": [
        "lis = [1,2,3.3,'chicken','fish','tomato',True,3+6j]\n",
        "type(lis)"
      ],
      "metadata": {
        "colab": {
          "base_uri": "https://localhost:8080/"
        },
        "id": "05DxlsLYvuOC",
        "outputId": "26c67d11-fb11-4e2d-efaa-713d06107c6d"
      },
      "execution_count": null,
      "outputs": [
        {
          "output_type": "execute_result",
          "data": {
            "text/plain": [
              "list"
            ]
          },
          "metadata": {},
          "execution_count": 80
        }
      ]
    },
    {
      "cell_type": "code",
      "source": [],
      "metadata": {
        "id": "N4JQkXdowPbb"
      },
      "execution_count": null,
      "outputs": []
    },
    {
      "cell_type": "markdown",
      "source": [
        "E.g 2. Tuple is Immutable"
      ],
      "metadata": {
        "id": "AOXoGlOYwjvL"
      }
    },
    {
      "cell_type": "code",
      "source": [
        "emp_name = ('ajay','bijay','sanjay')\n",
        "emp_name"
      ],
      "metadata": {
        "colab": {
          "base_uri": "https://localhost:8080/"
        },
        "id": "6wFIkBUvwrYX",
        "outputId": "449b7d6c-851b-441c-b41d-1fd576021c42"
      },
      "execution_count": null,
      "outputs": [
        {
          "output_type": "execute_result",
          "data": {
            "text/plain": [
              "('ajay', 'bijay', 'sanjay')"
            ]
          },
          "metadata": {},
          "execution_count": 81
        }
      ]
    },
    {
      "cell_type": "code",
      "source": [
        "emp_name[1]='rahul' # tuple object does not support item assignment as it is immutable"
      ],
      "metadata": {
        "colab": {
          "base_uri": "https://localhost:8080/",
          "height": 141
        },
        "id": "qoi8gKYIxBIs",
        "outputId": "b3a84e1a-647c-4f2c-cffc-a492824102c6"
      },
      "execution_count": null,
      "outputs": [
        {
          "output_type": "error",
          "ename": "TypeError",
          "evalue": "'tuple' object does not support item assignment",
          "traceback": [
            "\u001b[0;31m---------------------------------------------------------------------------\u001b[0m",
            "\u001b[0;31mTypeError\u001b[0m                                 Traceback (most recent call last)",
            "\u001b[0;32m<ipython-input-83-907acf875596>\u001b[0m in \u001b[0;36m<cell line: 1>\u001b[0;34m()\u001b[0m\n\u001b[0;32m----> 1\u001b[0;31m \u001b[0memp_name\u001b[0m\u001b[0;34m[\u001b[0m\u001b[0;36m1\u001b[0m\u001b[0;34m]\u001b[0m\u001b[0;34m=\u001b[0m\u001b[0;34m'rahul'\u001b[0m\u001b[0;34m\u001b[0m\u001b[0;34m\u001b[0m\u001b[0m\n\u001b[0m",
            "\u001b[0;31mTypeError\u001b[0m: 'tuple' object does not support item assignment"
          ]
        }
      ]
    },
    {
      "cell_type": "code",
      "source": [],
      "metadata": {
        "id": "lZuZiMc_xKg_"
      },
      "execution_count": null,
      "outputs": []
    },
    {
      "cell_type": "markdown",
      "source": [
        "E.g 2. Lists are Mutable"
      ],
      "metadata": {
        "id": "ppI7QthaxcSd"
      }
    },
    {
      "cell_type": "code",
      "source": [
        "grocery_list = ['chicken','fish','beer','coffee']\n",
        "grocery_list"
      ],
      "metadata": {
        "colab": {
          "base_uri": "https://localhost:8080/"
        },
        "id": "NUBtx1XjxlHy",
        "outputId": "7839d04f-c702-45b2-8d98-439ff381825d"
      },
      "execution_count": null,
      "outputs": [
        {
          "output_type": "execute_result",
          "data": {
            "text/plain": [
              "['chicken', 'fish', 'beer', 'coffee']"
            ]
          },
          "metadata": {},
          "execution_count": 84
        }
      ]
    },
    {
      "cell_type": "code",
      "source": [
        "grocery_list[1] = 'mutton'  # list is mutble"
      ],
      "metadata": {
        "id": "_cUW6q9Ix6AR"
      },
      "execution_count": null,
      "outputs": []
    },
    {
      "cell_type": "code",
      "source": [
        "grocery_list"
      ],
      "metadata": {
        "colab": {
          "base_uri": "https://localhost:8080/"
        },
        "id": "5bN7V2xqx_1m",
        "outputId": "c4b5f569-1a50-4a25-cd77-41dc6ee96340"
      },
      "execution_count": null,
      "outputs": [
        {
          "output_type": "execute_result",
          "data": {
            "text/plain": [
              "['chicken', 'mutton', 'beer', 'coffee']"
            ]
          },
          "metadata": {},
          "execution_count": 87
        }
      ]
    },
    {
      "cell_type": "code",
      "source": [],
      "metadata": {
        "id": "FPO9u0iOyJzQ"
      },
      "execution_count": null,
      "outputs": []
    },
    {
      "cell_type": "markdown",
      "source": [
        "E.g 3. Tuple inside Tuple"
      ],
      "metadata": {
        "id": "VeAnhvvUySE4"
      }
    },
    {
      "cell_type": "code",
      "source": [
        "jar1 = ('a','b')\n",
        "jar2 = ('c','d')\n",
        "box = (jar1,jar2)\n",
        "box"
      ],
      "metadata": {
        "colab": {
          "base_uri": "https://localhost:8080/"
        },
        "id": "8Qv_Ok9_yrns",
        "outputId": "97b8968d-6e2e-4717-9e9a-ccaf192a9c84"
      },
      "execution_count": null,
      "outputs": [
        {
          "output_type": "execute_result",
          "data": {
            "text/plain": [
              "(('a', 'b'), ('c', 'd'))"
            ]
          },
          "metadata": {},
          "execution_count": 88
        }
      ]
    },
    {
      "cell_type": "code",
      "source": [
        "type(box)"
      ],
      "metadata": {
        "colab": {
          "base_uri": "https://localhost:8080/"
        },
        "id": "yRiPGtWyzMiv",
        "outputId": "01b19330-d31f-41df-de35-c61a51dc0b6e"
      },
      "execution_count": null,
      "outputs": [
        {
          "output_type": "execute_result",
          "data": {
            "text/plain": [
              "tuple"
            ]
          },
          "metadata": {},
          "execution_count": 89
        }
      ]
    },
    {
      "cell_type": "code",
      "source": [],
      "metadata": {
        "id": "AYyVPfGzzQ9t"
      },
      "execution_count": null,
      "outputs": []
    },
    {
      "cell_type": "markdown",
      "source": [
        "E.g 3. List inside List"
      ],
      "metadata": {
        "id": "Ljq50xAJzWLQ"
      }
    },
    {
      "cell_type": "code",
      "source": [
        "code = [[1,2,3],[4,5,6],[7,8,9]]\n",
        "code"
      ],
      "metadata": {
        "colab": {
          "base_uri": "https://localhost:8080/"
        },
        "id": "62LYjbohzg6P",
        "outputId": "4d3edaa4-242e-4042-b0ff-d2817b83f7d6"
      },
      "execution_count": null,
      "outputs": [
        {
          "output_type": "execute_result",
          "data": {
            "text/plain": [
              "[[1, 2, 3], [4, 5, 6], [7, 8, 9]]"
            ]
          },
          "metadata": {},
          "execution_count": 90
        }
      ]
    },
    {
      "cell_type": "code",
      "source": [
        "type(code)"
      ],
      "metadata": {
        "colab": {
          "base_uri": "https://localhost:8080/"
        },
        "id": "Wfj5fqIFzzeq",
        "outputId": "16d0a880-aba7-4ec1-bfdc-50bf568173b8"
      },
      "execution_count": null,
      "outputs": [
        {
          "output_type": "execute_result",
          "data": {
            "text/plain": [
              "list"
            ]
          },
          "metadata": {},
          "execution_count": 91
        }
      ]
    },
    {
      "cell_type": "code",
      "source": [
        "code[0][1]"
      ],
      "metadata": {
        "colab": {
          "base_uri": "https://localhost:8080/"
        },
        "id": "Gshobn_Sz5Zg",
        "outputId": "960098e4-600c-4d58-92df-39057af94c17"
      },
      "execution_count": null,
      "outputs": [
        {
          "output_type": "execute_result",
          "data": {
            "text/plain": [
              "2"
            ]
          },
          "metadata": {},
          "execution_count": 92
        }
      ]
    },
    {
      "cell_type": "code",
      "source": [
        "code[1][2]"
      ],
      "metadata": {
        "colab": {
          "base_uri": "https://localhost:8080/"
        },
        "id": "0IgcAuoM0BV6",
        "outputId": "4eaf3725-7cfb-4f80-f807-7f6aca1e3df9"
      },
      "execution_count": null,
      "outputs": [
        {
          "output_type": "execute_result",
          "data": {
            "text/plain": [
              "6"
            ]
          },
          "metadata": {},
          "execution_count": 93
        }
      ]
    },
    {
      "cell_type": "code",
      "source": [],
      "metadata": {
        "id": "8IyzSqnV0F8h"
      },
      "execution_count": null,
      "outputs": []
    },
    {
      "cell_type": "markdown",
      "source": [
        "# 5. Describe the key features of sets and provide examples of their use."
      ],
      "metadata": {
        "id": "OiSHaz4P0WYh"
      }
    },
    {
      "cell_type": "code",
      "source": [
        "s = {1,2,2,'jay','prem','jay','pranay','prem'} # Sets does not allow duplicate elements.\n",
        "s"
      ],
      "metadata": {
        "colab": {
          "base_uri": "https://localhost:8080/"
        },
        "id": "rs0LvkIT0nYd",
        "outputId": "dc6ccf3a-68e0-450b-9aaa-faff0eac6471"
      },
      "execution_count": null,
      "outputs": [
        {
          "output_type": "execute_result",
          "data": {
            "text/plain": [
              "{1, 2, 'jay', 'pranay', 'prem'}"
            ]
          },
          "metadata": {},
          "execution_count": 94
        }
      ]
    },
    {
      "cell_type": "code",
      "source": [
        "type(s)"
      ],
      "metadata": {
        "colab": {
          "base_uri": "https://localhost:8080/"
        },
        "id": "yDaHb9Vi1xST",
        "outputId": "7a4df779-f49f-42d9-dd34-5e69e337d893"
      },
      "execution_count": null,
      "outputs": [
        {
          "output_type": "execute_result",
          "data": {
            "text/plain": [
              "set"
            ]
          },
          "metadata": {},
          "execution_count": 95
        }
      ]
    },
    {
      "cell_type": "code",
      "source": [],
      "metadata": {
        "id": "7eBrlWuq14Qg"
      },
      "execution_count": null,
      "outputs": []
    },
    {
      "cell_type": "markdown",
      "source": [
        "* Set operations"
      ],
      "metadata": {
        "id": "9uh6Y1De2OlA"
      }
    },
    {
      "cell_type": "code",
      "source": [
        "S1= {'trekking','reading','playing'}\n",
        "S2= {'playing','shooting','travelling'}\n",
        "S1"
      ],
      "metadata": {
        "colab": {
          "base_uri": "https://localhost:8080/"
        },
        "id": "qal2C08x2TNs",
        "outputId": "ba42c4ef-fb93-489f-b654-5b9edf36f0c9"
      },
      "execution_count": null,
      "outputs": [
        {
          "output_type": "execute_result",
          "data": {
            "text/plain": [
              "{'playing', 'reading', 'trekking'}"
            ]
          },
          "metadata": {},
          "execution_count": 96
        }
      ]
    },
    {
      "cell_type": "code",
      "source": [
        "S2"
      ],
      "metadata": {
        "colab": {
          "base_uri": "https://localhost:8080/"
        },
        "id": "mI6OfoIB3ouI",
        "outputId": "e029238b-05d8-44e2-9710-f3c51441c9e9"
      },
      "execution_count": null,
      "outputs": [
        {
          "output_type": "execute_result",
          "data": {
            "text/plain": [
              "{'playing', 'shooting', 'travelling'}"
            ]
          },
          "metadata": {},
          "execution_count": 97
        }
      ]
    },
    {
      "cell_type": "code",
      "source": [
        "S1|S2  # Union >> combines all elements"
      ],
      "metadata": {
        "colab": {
          "base_uri": "https://localhost:8080/"
        },
        "id": "iCLr9soi3qHS",
        "outputId": "5f13acbf-c6db-48ae-e8c1-a26f8bc46331"
      },
      "execution_count": null,
      "outputs": [
        {
          "output_type": "execute_result",
          "data": {
            "text/plain": [
              "{'playing', 'reading', 'shooting', 'travelling', 'trekking'}"
            ]
          },
          "metadata": {},
          "execution_count": 98
        }
      ]
    },
    {
      "cell_type": "code",
      "source": [
        "S1 & S2  # Intersection >> Common elements"
      ],
      "metadata": {
        "colab": {
          "base_uri": "https://localhost:8080/"
        },
        "id": "yAFCSSxb31Sd",
        "outputId": "1cbc6eec-9973-4c1d-aafd-9f38d53bd8c1"
      },
      "execution_count": null,
      "outputs": [
        {
          "output_type": "execute_result",
          "data": {
            "text/plain": [
              "{'playing'}"
            ]
          },
          "metadata": {},
          "execution_count": 99
        }
      ]
    },
    {
      "cell_type": "code",
      "source": [
        "S1 - S2 # Difference >> present in first set and not in second"
      ],
      "metadata": {
        "colab": {
          "base_uri": "https://localhost:8080/"
        },
        "id": "gW7rtXZO4B56",
        "outputId": "8c234ad7-e05a-4ea8-f790-52ec556d63dc"
      },
      "execution_count": null,
      "outputs": [
        {
          "output_type": "execute_result",
          "data": {
            "text/plain": [
              "{'reading', 'trekking'}"
            ]
          },
          "metadata": {},
          "execution_count": 100
        }
      ]
    },
    {
      "cell_type": "code",
      "source": [
        "S1 ^ S2  # Synnetric difference >> return elements other than common elements"
      ],
      "metadata": {
        "colab": {
          "base_uri": "https://localhost:8080/"
        },
        "id": "cag9K-7b4dad",
        "outputId": "fc623636-9d9d-4ed8-a9ea-0880722a15ce"
      },
      "execution_count": null,
      "outputs": [
        {
          "output_type": "execute_result",
          "data": {
            "text/plain": [
              "{'reading', 'shooting', 'travelling', 'trekking'}"
            ]
          },
          "metadata": {},
          "execution_count": 101
        }
      ]
    },
    {
      "cell_type": "code",
      "source": [],
      "metadata": {
        "id": "SVOafVdp4yEY"
      },
      "execution_count": null,
      "outputs": []
    },
    {
      "cell_type": "markdown",
      "source": [
        "Frozen set"
      ],
      "metadata": {
        "id": "BDoiX9MP5OT2"
      }
    },
    {
      "cell_type": "code",
      "source": [
        "code = frozenset([1,2,2,3,3,4,4,4,5])\n",
        "code"
      ],
      "metadata": {
        "colab": {
          "base_uri": "https://localhost:8080/"
        },
        "id": "7ud-0iul5taD",
        "outputId": "1b4fa900-e367-4cb5-e090-e9afcdd9ae43"
      },
      "execution_count": null,
      "outputs": [
        {
          "output_type": "execute_result",
          "data": {
            "text/plain": [
              "frozenset({1, 2, 3, 4, 5})"
            ]
          },
          "metadata": {},
          "execution_count": 104
        }
      ]
    },
    {
      "cell_type": "code",
      "source": [
        "type(code) # immutable version of set. .add, .remove, .pop, nothing works in frozen set"
      ],
      "metadata": {
        "colab": {
          "base_uri": "https://localhost:8080/"
        },
        "id": "gm72UUQu6eGA",
        "outputId": "8911a5a7-223c-4b2b-d67e-52df500e5b52"
      },
      "execution_count": null,
      "outputs": [
        {
          "output_type": "execute_result",
          "data": {
            "text/plain": [
              "frozenset"
            ]
          },
          "metadata": {},
          "execution_count": 105
        }
      ]
    },
    {
      "cell_type": "code",
      "source": [],
      "metadata": {
        "id": "jUyzn1v26iem"
      },
      "execution_count": null,
      "outputs": []
    },
    {
      "cell_type": "markdown",
      "source": [
        "# 6. Discuss the use cases tuples and sets in python programming."
      ],
      "metadata": {
        "id": "-O_408307MBC"
      }
    },
    {
      "cell_type": "code",
      "source": [],
      "metadata": {
        "id": "9H8Ut33f7b4_"
      },
      "execution_count": null,
      "outputs": []
    },
    {
      "cell_type": "markdown",
      "source": [
        "TUPLES >> Ordered collection of sets # tuples are immutable"
      ],
      "metadata": {
        "id": "PC5Hs8rp_FVm"
      }
    },
    {
      "cell_type": "code",
      "source": [],
      "metadata": {
        "id": "Nmr9hhNO_lQg"
      },
      "execution_count": null,
      "outputs": []
    },
    {
      "cell_type": "markdown",
      "source": [
        "Use cases of tuples"
      ],
      "metadata": {
        "id": "7jbrFQTJ_nqh"
      }
    },
    {
      "cell_type": "code",
      "source": [
        "workers = ('pranay','prem','jay','pradeep') # use tuples as a data structure if you dont want to edit or change the data.\n",
        "workers[1] = 'rahul'"
      ],
      "metadata": {
        "colab": {
          "base_uri": "https://localhost:8080/",
          "height": 158
        },
        "id": "7ejbl4NX_tLy",
        "outputId": "ac5cd25f-0304-4c02-dc62-09ce13b22815"
      },
      "execution_count": 2,
      "outputs": [
        {
          "output_type": "error",
          "ename": "TypeError",
          "evalue": "'tuple' object does not support item assignment",
          "traceback": [
            "\u001b[0;31m---------------------------------------------------------------------------\u001b[0m",
            "\u001b[0;31mTypeError\u001b[0m                                 Traceback (most recent call last)",
            "\u001b[0;32m<ipython-input-2-80491fc0ceda>\u001b[0m in \u001b[0;36m<cell line: 2>\u001b[0;34m()\u001b[0m\n\u001b[1;32m      1\u001b[0m \u001b[0mworkers\u001b[0m \u001b[0;34m=\u001b[0m \u001b[0;34m(\u001b[0m\u001b[0;34m'pranay'\u001b[0m\u001b[0;34m,\u001b[0m\u001b[0;34m'prem'\u001b[0m\u001b[0;34m,\u001b[0m\u001b[0;34m'jay'\u001b[0m\u001b[0;34m,\u001b[0m\u001b[0;34m'pradeep'\u001b[0m\u001b[0;34m)\u001b[0m\u001b[0;34m\u001b[0m\u001b[0;34m\u001b[0m\u001b[0m\n\u001b[0;32m----> 2\u001b[0;31m \u001b[0mworkers\u001b[0m\u001b[0;34m[\u001b[0m\u001b[0;36m1\u001b[0m\u001b[0;34m]\u001b[0m \u001b[0;34m=\u001b[0m \u001b[0;34m'rahul'\u001b[0m\u001b[0;34m\u001b[0m\u001b[0;34m\u001b[0m\u001b[0m\n\u001b[0m",
            "\u001b[0;31mTypeError\u001b[0m: 'tuple' object does not support item assignment"
          ]
        }
      ]
    },
    {
      "cell_type": "code",
      "source": [
        "tuple = ('data analytics',1,1,2,2,2,'data analytics',3.5)\n",
        "tuple.count(2)"
      ],
      "metadata": {
        "colab": {
          "base_uri": "https://localhost:8080/"
        },
        "id": "y0-wx3KbAhX7",
        "outputId": "54a6ff1e-cbb8-4e5a-80e0-0b9997dff4c6"
      },
      "execution_count": 3,
      "outputs": [
        {
          "output_type": "execute_result",
          "data": {
            "text/plain": [
              "3"
            ]
          },
          "metadata": {},
          "execution_count": 3
        }
      ]
    },
    {
      "cell_type": "code",
      "source": [
        "tuple.count('data analytics')"
      ],
      "metadata": {
        "colab": {
          "base_uri": "https://localhost:8080/"
        },
        "id": "3t9agqjjBxTK",
        "outputId": "aac1f5be-76f3-43e8-c47e-179c13f93138"
      },
      "execution_count": 4,
      "outputs": [
        {
          "output_type": "execute_result",
          "data": {
            "text/plain": [
              "2"
            ]
          },
          "metadata": {},
          "execution_count": 4
        }
      ]
    },
    {
      "cell_type": "code",
      "source": [
        "tuple.index('data analytics')"
      ],
      "metadata": {
        "colab": {
          "base_uri": "https://localhost:8080/"
        },
        "id": "F4hLib4EB4Np",
        "outputId": "c41927c8-508c-456b-ec5f-e4abdb55be57"
      },
      "execution_count": 6,
      "outputs": [
        {
          "output_type": "execute_result",
          "data": {
            "text/plain": [
              "0"
            ]
          },
          "metadata": {},
          "execution_count": 6
        }
      ]
    },
    {
      "cell_type": "code",
      "source": [
        "print(tuple*3)"
      ],
      "metadata": {
        "colab": {
          "base_uri": "https://localhost:8080/"
        },
        "id": "ZHoFBKswCOgb",
        "outputId": "e78c08f8-cb67-4ee1-9e57-f8412bae32c0"
      },
      "execution_count": 7,
      "outputs": [
        {
          "output_type": "stream",
          "name": "stdout",
          "text": [
            "('data analytics', 1, 1, 2, 2, 2, 'data analytics', 3.5, 'data analytics', 1, 1, 2, 2, 2, 'data analytics', 3.5, 'data analytics', 1, 1, 2, 2, 2, 'data analytics', 3.5)\n"
          ]
        }
      ]
    },
    {
      "cell_type": "code",
      "source": [],
      "metadata": {
        "id": "dnEIPHcvCfsZ"
      },
      "execution_count": null,
      "outputs": []
    },
    {
      "cell_type": "markdown",
      "source": [
        "SETS >> sets are unordered collection of unique elements"
      ],
      "metadata": {
        "id": "LUES7FTSDSh-"
      }
    },
    {
      "cell_type": "code",
      "source": [],
      "metadata": {
        "id": "_sYSluRADrpB"
      },
      "execution_count": null,
      "outputs": []
    },
    {
      "cell_type": "markdown",
      "source": [
        "Use cases of Sets\n",
        "Conversion of List into Sets"
      ],
      "metadata": {
        "id": "beCxIfmHDsZ9"
      }
    },
    {
      "cell_type": "code",
      "source": [
        "list1 = [1,2,'chicken','fish','chicken','fish']  # conversion on list into sets\n",
        "s = set(list1)"
      ],
      "metadata": {
        "id": "0fJ8-ZcgD4HI"
      },
      "execution_count": 10,
      "outputs": []
    },
    {
      "cell_type": "code",
      "source": [
        "s"
      ],
      "metadata": {
        "colab": {
          "base_uri": "https://localhost:8080/"
        },
        "id": "4dyYNmx-FWCl",
        "outputId": "8901c9b2-3d2e-4d3c-ec8b-141de5cfce9f"
      },
      "execution_count": 11,
      "outputs": [
        {
          "output_type": "execute_result",
          "data": {
            "text/plain": [
              "{1, 2, 'chicken', 'fish'}"
            ]
          },
          "metadata": {},
          "execution_count": 11
        }
      ]
    },
    {
      "cell_type": "code",
      "source": [
        "list1 = list(s)  #conversion of set into list again\n",
        "list1"
      ],
      "metadata": {
        "colab": {
          "base_uri": "https://localhost:8080/"
        },
        "id": "Rcu8tVJoGOHi",
        "outputId": "b95dc690-c35f-4f06-b9b3-2f95c0124279"
      },
      "execution_count": 12,
      "outputs": [
        {
          "output_type": "execute_result",
          "data": {
            "text/plain": [
              "['fish', 1, 2, 'chicken']"
            ]
          },
          "metadata": {},
          "execution_count": 12
        }
      ]
    },
    {
      "cell_type": "code",
      "source": [],
      "metadata": {
        "id": "4bla3W_xGjtM"
      },
      "execution_count": null,
      "outputs": []
    },
    {
      "cell_type": "markdown",
      "source": [
        "# 7. Discribe how to add, modify and delete items in a dictionary with examples."
      ],
      "metadata": {
        "id": "wVIxvGCoG2Vm"
      }
    },
    {
      "cell_type": "code",
      "source": [
        "contact_no = {'dad':1234, 'mom':567}\n",
        "contact_no"
      ],
      "metadata": {
        "colab": {
          "base_uri": "https://localhost:8080/"
        },
        "id": "DY0DFuHIHNQC",
        "outputId": "8f09162f-a1f5-4f25-c6a2-b261eca91336"
      },
      "execution_count": 13,
      "outputs": [
        {
          "output_type": "execute_result",
          "data": {
            "text/plain": [
              "{'dad': 1234, 'mom': 567}"
            ]
          },
          "metadata": {},
          "execution_count": 13
        }
      ]
    },
    {
      "cell_type": "code",
      "source": [
        "type(contact_no)"
      ],
      "metadata": {
        "colab": {
          "base_uri": "https://localhost:8080/"
        },
        "id": "39eqE7zcIlLf",
        "outputId": "a67bf5c3-5d9a-45be-a774-9c3746df5415"
      },
      "execution_count": 14,
      "outputs": [
        {
          "output_type": "execute_result",
          "data": {
            "text/plain": [
              "dict"
            ]
          },
          "metadata": {},
          "execution_count": 14
        }
      ]
    },
    {
      "cell_type": "code",
      "source": [
        "contact_no['dad']"
      ],
      "metadata": {
        "colab": {
          "base_uri": "https://localhost:8080/"
        },
        "id": "LQw7egzuItQ1",
        "outputId": "f1664837-0062-49bf-f4c2-8998d2adccf1"
      },
      "execution_count": 15,
      "outputs": [
        {
          "output_type": "execute_result",
          "data": {
            "text/plain": [
              "1234"
            ]
          },
          "metadata": {},
          "execution_count": 15
        }
      ]
    },
    {
      "cell_type": "code",
      "source": [
        "contact_no['mom']"
      ],
      "metadata": {
        "colab": {
          "base_uri": "https://localhost:8080/"
        },
        "id": "xNjMmtMqI4Jd",
        "outputId": "65f2a4ef-18a3-4fa6-dc4c-a06972a13da8"
      },
      "execution_count": 16,
      "outputs": [
        {
          "output_type": "execute_result",
          "data": {
            "text/plain": [
              "567"
            ]
          },
          "metadata": {},
          "execution_count": 16
        }
      ]
    },
    {
      "cell_type": "code",
      "source": [
        "contact_no = {'dad':1234, 'mom':567, 'dad':890} # Modifying dad's contact number >> dad variable has overwritten bt last entered number.\n",
        "contact_no['dad']"
      ],
      "metadata": {
        "colab": {
          "base_uri": "https://localhost:8080/"
        },
        "id": "MQ2w-AqDI8Kb",
        "outputId": "c49152e4-5da8-4b7e-b273-f034bb81508e"
      },
      "execution_count": 17,
      "outputs": [
        {
          "output_type": "execute_result",
          "data": {
            "text/plain": [
              "890"
            ]
          },
          "metadata": {},
          "execution_count": 17
        }
      ]
    },
    {
      "cell_type": "code",
      "source": [],
      "metadata": {
        "id": "lFKjqnmoJZML"
      },
      "execution_count": null,
      "outputs": []
    },
    {
      "cell_type": "markdown",
      "source": [
        "Adding items in dictionary"
      ],
      "metadata": {
        "id": "w1XVvY23KJNS"
      }
    },
    {
      "cell_type": "code",
      "source": [
        "D = {'name': ['pranay','prem',1,2],'email': 'pr@gmail.com', 'contact':(1234,5678)}\n",
        "D"
      ],
      "metadata": {
        "colab": {
          "base_uri": "https://localhost:8080/"
        },
        "id": "AOJlz2DIKUVa",
        "outputId": "97039487-9414-40e2-fcbf-8fed127d3fed"
      },
      "execution_count": 19,
      "outputs": [
        {
          "output_type": "execute_result",
          "data": {
            "text/plain": [
              "{'name': ['pranay', 'prem', 1, 2],\n",
              " 'email': 'pr@gmail.com',\n",
              " 'contact': (1234, 5678)}"
            ]
          },
          "metadata": {},
          "execution_count": 19
        }
      ]
    },
    {
      "cell_type": "code",
      "source": [
        "D['name']"
      ],
      "metadata": {
        "colab": {
          "base_uri": "https://localhost:8080/"
        },
        "id": "IsT_87uELboH",
        "outputId": "55824667-c695-4c49-e074-a1c36a0199ee"
      },
      "execution_count": 20,
      "outputs": [
        {
          "output_type": "execute_result",
          "data": {
            "text/plain": [
              "['pranay', 'prem', 1, 2]"
            ]
          },
          "metadata": {},
          "execution_count": 20
        }
      ]
    },
    {
      "cell_type": "code",
      "source": [
        "D['address'] = 'Mumbai'  # Added item to the dictionary.\n",
        "D"
      ],
      "metadata": {
        "colab": {
          "base_uri": "https://localhost:8080/"
        },
        "id": "19AmE1QeMaWT",
        "outputId": "e4532595-1433-4f25-c4fe-b2d2553e6d12"
      },
      "execution_count": 21,
      "outputs": [
        {
          "output_type": "execute_result",
          "data": {
            "text/plain": [
              "{'name': ['pranay', 'prem', 1, 2],\n",
              " 'email': 'pr@gmail.com',\n",
              " 'contact': (1234, 5678),\n",
              " 'address': 'Mumbai'}"
            ]
          },
          "metadata": {},
          "execution_count": 21
        }
      ]
    },
    {
      "cell_type": "markdown",
      "source": [
        "Deleting item from the dictionary."
      ],
      "metadata": {
        "id": "mJCpy-d0M1Of"
      }
    },
    {
      "cell_type": "code",
      "source": [
        "D"
      ],
      "metadata": {
        "colab": {
          "base_uri": "https://localhost:8080/"
        },
        "id": "cOD9o_Y9Mroc",
        "outputId": "f37ed678-b296-475a-cf59-d2550948ac00"
      },
      "execution_count": 22,
      "outputs": [
        {
          "output_type": "execute_result",
          "data": {
            "text/plain": [
              "{'name': ['pranay', 'prem', 1, 2],\n",
              " 'email': 'pr@gmail.com',\n",
              " 'contact': (1234, 5678),\n",
              " 'address': 'Mumbai'}"
            ]
          },
          "metadata": {},
          "execution_count": 22
        }
      ]
    },
    {
      "cell_type": "code",
      "source": [
        "del D['email']"
      ],
      "metadata": {
        "id": "LFKEToZROf-9"
      },
      "execution_count": 34,
      "outputs": []
    },
    {
      "cell_type": "code",
      "source": [
        "D"
      ],
      "metadata": {
        "colab": {
          "base_uri": "https://localhost:8080/"
        },
        "id": "vAjXospUPFbu",
        "outputId": "53d73cc2-2247-48a1-e0b1-2cc78f6526be"
      },
      "execution_count": 35,
      "outputs": [
        {
          "output_type": "execute_result",
          "data": {
            "text/plain": [
              "{'name': ['pranay', 'prem', 1, 2]}"
            ]
          },
          "metadata": {},
          "execution_count": 35
        }
      ]
    },
    {
      "cell_type": "code",
      "source": [],
      "metadata": {
        "id": "9i29BS6IPHaW"
      },
      "execution_count": null,
      "outputs": []
    },
    {
      "cell_type": "markdown",
      "source": [
        "# 8. Discuss the importance of dictionary keys being immutable and provide examples."
      ],
      "metadata": {
        "id": "BSHttpsDPKF1"
      }
    },
    {
      "cell_type": "code",
      "source": [
        "hotel_menu = {'chicken_tikka' :250, 'butter_chicken':350}\n",
        "hotel_menu"
      ],
      "metadata": {
        "colab": {
          "base_uri": "https://localhost:8080/"
        },
        "id": "RD3fZU2KPhi4",
        "outputId": "83a91848-d637-4a7d-9962-9002f19a1a08"
      },
      "execution_count": 36,
      "outputs": [
        {
          "output_type": "execute_result",
          "data": {
            "text/plain": [
              "{'chicken_tikka': 250, 'butter_chicken': 350}"
            ]
          },
          "metadata": {},
          "execution_count": 36
        }
      ]
    },
    {
      "cell_type": "code",
      "source": [
        "hotel_menu['chicken_tikka']"
      ],
      "metadata": {
        "colab": {
          "base_uri": "https://localhost:8080/"
        },
        "id": "HBkkJm0fRaYZ",
        "outputId": "d6d97fc3-1f99-4357-85a9-0d14cea91180"
      },
      "execution_count": 37,
      "outputs": [
        {
          "output_type": "execute_result",
          "data": {
            "text/plain": [
              "250"
            ]
          },
          "metadata": {},
          "execution_count": 37
        }
      ]
    },
    {
      "cell_type": "code",
      "source": [
        "hotel_menu['butter_chicken']"
      ],
      "metadata": {
        "colab": {
          "base_uri": "https://localhost:8080/"
        },
        "id": "wRtIlS0IRmdV",
        "outputId": "5a4b6b3e-f97d-472c-aa2e-adbdfa0a20de"
      },
      "execution_count": 38,
      "outputs": [
        {
          "output_type": "execute_result",
          "data": {
            "text/plain": [
              "350"
            ]
          },
          "metadata": {},
          "execution_count": 38
        }
      ]
    },
    {
      "cell_type": "code",
      "source": [
        "hotel_menu.keys()"
      ],
      "metadata": {
        "colab": {
          "base_uri": "https://localhost:8080/"
        },
        "id": "6-MIGkd_R0da",
        "outputId": "d16916f9-45c6-4db2-a076-5d83aa5fa605"
      },
      "execution_count": 39,
      "outputs": [
        {
          "output_type": "execute_result",
          "data": {
            "text/plain": [
              "dict_keys(['chicken_tikka', 'butter_chicken'])"
            ]
          },
          "metadata": {},
          "execution_count": 39
        }
      ]
    },
    {
      "cell_type": "code",
      "source": [
        "hotel_menu.values()"
      ],
      "metadata": {
        "colab": {
          "base_uri": "https://localhost:8080/"
        },
        "id": "QzQZu_wVSPw8",
        "outputId": "a9c1b42f-db9c-4f20-b801-2162029ded32"
      },
      "execution_count": 40,
      "outputs": [
        {
          "output_type": "execute_result",
          "data": {
            "text/plain": [
              "dict_values([250, 350])"
            ]
          },
          "metadata": {},
          "execution_count": 40
        }
      ]
    }
  ]
}